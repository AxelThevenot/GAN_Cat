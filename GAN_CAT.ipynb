{
  "nbformat": 4,
  "nbformat_minor": 0,
  "metadata": {
    "colab": {
      "name": "GAN_CAT.ipynb",
      "version": "0.3.2",
      "provenance": [],
      "collapsed_sections": [
        "UwanZwVHa3CZ",
        "61NECVX_bWpz",
        "r7a-IbGIberB"
      ],
      "toc_visible": true
    },
    "kernelspec": {
      "name": "python3",
      "display_name": "Python 3"
    },
    "accelerator": "GPU"
  },
  "cells": [
    {
      "cell_type": "markdown",
      "metadata": {
        "id": "k3SsSfYJaHzU",
        "colab_type": "text"
      },
      "source": [
        "# IMPORTATIONS"
      ]
    },
    {
      "cell_type": "markdown",
      "metadata": {
        "id": "KJi-H64CaRPh",
        "colab_type": "text"
      },
      "source": [
        "## LINK GOOGLE DRIVE AND GOOGLE COLAB"
      ]
    },
    {
      "cell_type": "code",
      "metadata": {
        "id": "_OsiEJARuYHX",
        "colab_type": "code",
        "outputId": "e3f130d4-855b-4b6c-e857-f7ea8cacc18f",
        "colab": {
          "base_uri": "https://localhost:8080/",
          "height": 34
        }
      },
      "source": [
        "# Exécutez cette cellule pour installer votre Google Drive.\n",
        "from google.colab import drive\n",
        "drive.mount('/content/drive', force_remount=True)"
      ],
      "execution_count": 0,
      "outputs": [
        {
          "output_type": "stream",
          "text": [
            "Mounted at /content/drive\n"
          ],
          "name": "stdout"
        }
      ]
    },
    {
      "cell_type": "markdown",
      "metadata": {
        "id": "FslJVP_vaakZ",
        "colab_type": "text"
      },
      "source": [
        "## LIBRARY IMPORTATIONS"
      ]
    },
    {
      "cell_type": "code",
      "metadata": {
        "id": "UFOWJsYtIGKZ",
        "colab_type": "code",
        "outputId": "292b88b1-13bb-4a6a-c290-792179b2cd76",
        "colab": {
          "base_uri": "https://localhost:8080/",
          "height": 50
        }
      },
      "source": [
        "from __future__ import print_function\n",
        "#%matplotlib inline\n",
        "import argparse\n",
        "import os\n",
        "import random\n",
        "import torch\n",
        "import torch.nn as nn\n",
        "import torch.nn.parallel\n",
        "import torch.backends.cudnn as cudnn\n",
        "import torch.optim as optim\n",
        "import torch.utils.data\n",
        "import torchvision.datasets as dset\n",
        "import torchvision.transforms as transforms\n",
        "import torchvision.utils as vutils\n",
        "import numpy as np\n",
        "import matplotlib.pyplot as plt\n",
        "import matplotlib.animation as animation\n",
        "from IPython.display import HTML\n",
        "from torchsummary import summary\n",
        "from collections import OrderedDict\n",
        "\n",
        "# Set random seem for reproducibility\n",
        "manualSeed = 999\n",
        "#manualSeed = random.randint(1, 10000) # use if you want new results\n",
        "print(\"Random Seed: \", manualSeed)\n",
        "random.seed(manualSeed)\n",
        "torch.manual_seed(manualSeed)"
      ],
      "execution_count": 0,
      "outputs": [
        {
          "output_type": "stream",
          "text": [
            "Random Seed:  999\n"
          ],
          "name": "stdout"
        },
        {
          "output_type": "execute_result",
          "data": {
            "text/plain": [
              "<torch._C.Generator at 0x7fc496c01b50>"
            ]
          },
          "metadata": {
            "tags": []
          },
          "execution_count": 2
        }
      ]
    },
    {
      "cell_type": "markdown",
      "metadata": {
        "id": "bWXaiqKCakH2",
        "colab_type": "text"
      },
      "source": [
        "# VARIABLES"
      ]
    },
    {
      "cell_type": "code",
      "metadata": {
        "id": "33hruu_ypXGx",
        "colab_type": "code",
        "colab": {}
      },
      "source": [
        "# Root directory for dataset\n",
        "dataroot = '/content/drive/My Drive/Colab Notebooks/Cat_dataset'\n",
        " \n",
        "\n",
        "# Number of workers for dataloader\n",
        "workers = 2\n",
        "\n",
        "# Batch size during training\n",
        "batch_size = 32\n",
        "\n",
        "# Spatial size of training images. All images will be resized to this\n",
        "#   size using a transformer.\n",
        "image_size = 256\n",
        "\n",
        "# Number of channels in the training images. For color images this is 3\n",
        "nc = 3\n",
        "\n",
        "# Size of z latent vector (i.e. size of generator input)\n",
        "nz = 100\n",
        "\n",
        "# Size of feature maps in generator\n",
        "ngf = 64\n",
        "\n",
        "# Size of feature maps in discriminator\n",
        "ndf = 64\n",
        "\n",
        "# Number of training epochs\n",
        "num_epochs = 2000\n",
        "\n",
        "# Learning rate for optimizers\n",
        "lr = 0.0002\n",
        "\n",
        "# Beta1 hyperparam for Adam optimizers\n",
        "beta1 = 0.5\n",
        "\n",
        "# Number of GPUs available. Use 0 for CPU mode.\n",
        "ngpu = 1"
      ],
      "execution_count": 0,
      "outputs": []
    },
    {
      "cell_type": "markdown",
      "metadata": {
        "id": "br37Q2DyapSQ",
        "colab_type": "text"
      },
      "source": [
        "# LOAD AND TEST THE DATASET"
      ]
    },
    {
      "cell_type": "code",
      "metadata": {
        "id": "ut-PR3oHp3b_",
        "colab_type": "code",
        "outputId": "d4205512-1edf-4f8c-a97a-3a7844bead4e",
        "colab": {
          "base_uri": "https://localhost:8080/",
          "height": 407
        }
      },
      "source": [
        "dataset = dset.ImageFolder(root=dataroot,\n",
        "                           transform=transforms.Compose([\n",
        "                               transforms.Resize(image_size),\n",
        "                               transforms.CenterCrop(image_size),\n",
        "                               transforms.ToTensor(),\n",
        "                               transforms.Normalize((0.5, 0.5, 0.5), (0.5, 0.5, 0.5)),\n",
        "                           ]))\n",
        "# Create the dataloader\n",
        "dataloader = torch.utils.data.DataLoader(dataset, batch_size=batch_size,\n",
        "                                         shuffle=True, num_workers=workers)\n",
        "\n",
        "# Decide which device we want to run on\n",
        "device = torch.device(\"cuda:0\" if (torch.cuda.is_available() and ngpu > 0) else \"cpu\")\n",
        "\n",
        "# Plot some training images\n",
        "real_batch = next(iter(dataloader))\n",
        "plt.figure(figsize=(8,8))\n",
        "plt.axis(\"off\")\n",
        "plt.title(\"Training Images\")\n",
        "plt.imshow(np.transpose(vutils.make_grid(real_batch[0].to(device)[:64], padding=2, normalize=True).cpu(),(1,2,0)))"
      ],
      "execution_count": 0,
      "outputs": [
        {
          "output_type": "error",
          "ename": "RuntimeError",
          "evalue": "ignored",
          "traceback": [
            "\u001b[0;31m---------------------------------------------------------------------------\u001b[0m",
            "\u001b[0;31mRuntimeError\u001b[0m                              Traceback (most recent call last)",
            "\u001b[0;32m<ipython-input-4-2a8fffd9e96a>\u001b[0m in \u001b[0;36m<module>\u001b[0;34m()\u001b[0m\n\u001b[1;32m      4\u001b[0m                                \u001b[0mtransforms\u001b[0m\u001b[0;34m.\u001b[0m\u001b[0mCenterCrop\u001b[0m\u001b[0;34m(\u001b[0m\u001b[0mimage_size\u001b[0m\u001b[0;34m)\u001b[0m\u001b[0;34m,\u001b[0m\u001b[0;34m\u001b[0m\u001b[0;34m\u001b[0m\u001b[0m\n\u001b[1;32m      5\u001b[0m                                \u001b[0mtransforms\u001b[0m\u001b[0;34m.\u001b[0m\u001b[0mToTensor\u001b[0m\u001b[0;34m(\u001b[0m\u001b[0;34m)\u001b[0m\u001b[0;34m,\u001b[0m\u001b[0;34m\u001b[0m\u001b[0;34m\u001b[0m\u001b[0m\n\u001b[0;32m----> 6\u001b[0;31m                                \u001b[0mtransforms\u001b[0m\u001b[0;34m.\u001b[0m\u001b[0mNormalize\u001b[0m\u001b[0;34m(\u001b[0m\u001b[0;34m(\u001b[0m\u001b[0;36m0.5\u001b[0m\u001b[0;34m,\u001b[0m \u001b[0;36m0.5\u001b[0m\u001b[0;34m,\u001b[0m \u001b[0;36m0.5\u001b[0m\u001b[0;34m)\u001b[0m\u001b[0;34m,\u001b[0m \u001b[0;34m(\u001b[0m\u001b[0;36m0.5\u001b[0m\u001b[0;34m,\u001b[0m \u001b[0;36m0.5\u001b[0m\u001b[0;34m,\u001b[0m \u001b[0;36m0.5\u001b[0m\u001b[0;34m)\u001b[0m\u001b[0;34m)\u001b[0m\u001b[0;34m,\u001b[0m\u001b[0;34m\u001b[0m\u001b[0;34m\u001b[0m\u001b[0m\n\u001b[0m\u001b[1;32m      7\u001b[0m                            ]))\n\u001b[1;32m      8\u001b[0m \u001b[0;31m# Create the dataloader\u001b[0m\u001b[0;34m\u001b[0m\u001b[0;34m\u001b[0m\u001b[0;34m\u001b[0m\u001b[0m\n",
            "\u001b[0;32m/usr/local/lib/python3.6/dist-packages/torchvision/datasets/folder.py\u001b[0m in \u001b[0;36m__init__\u001b[0;34m(self, root, transform, target_transform, loader, is_valid_file)\u001b[0m\n\u001b[1;32m    207\u001b[0m                                           \u001b[0mtransform\u001b[0m\u001b[0;34m=\u001b[0m\u001b[0mtransform\u001b[0m\u001b[0;34m,\u001b[0m\u001b[0;34m\u001b[0m\u001b[0;34m\u001b[0m\u001b[0m\n\u001b[1;32m    208\u001b[0m                                           \u001b[0mtarget_transform\u001b[0m\u001b[0;34m=\u001b[0m\u001b[0mtarget_transform\u001b[0m\u001b[0;34m,\u001b[0m\u001b[0;34m\u001b[0m\u001b[0;34m\u001b[0m\u001b[0m\n\u001b[0;32m--> 209\u001b[0;31m                                           is_valid_file=is_valid_file)\n\u001b[0m\u001b[1;32m    210\u001b[0m         \u001b[0mself\u001b[0m\u001b[0;34m.\u001b[0m\u001b[0mimgs\u001b[0m \u001b[0;34m=\u001b[0m \u001b[0mself\u001b[0m\u001b[0;34m.\u001b[0m\u001b[0msamples\u001b[0m\u001b[0;34m\u001b[0m\u001b[0;34m\u001b[0m\u001b[0m\n",
            "\u001b[0;32m/usr/local/lib/python3.6/dist-packages/torchvision/datasets/folder.py\u001b[0m in \u001b[0;36m__init__\u001b[0;34m(self, root, loader, extensions, transform, target_transform, is_valid_file)\u001b[0m\n\u001b[1;32m     95\u001b[0m         \u001b[0;32mif\u001b[0m \u001b[0mlen\u001b[0m\u001b[0;34m(\u001b[0m\u001b[0msamples\u001b[0m\u001b[0;34m)\u001b[0m \u001b[0;34m==\u001b[0m \u001b[0;36m0\u001b[0m\u001b[0;34m:\u001b[0m\u001b[0;34m\u001b[0m\u001b[0;34m\u001b[0m\u001b[0m\n\u001b[1;32m     96\u001b[0m             raise (RuntimeError(\"Found 0 files in subfolders of: \" + self.root + \"\\n\"\n\u001b[0;32m---> 97\u001b[0;31m                                 \"Supported extensions are: \" + \",\".join(extensions)))\n\u001b[0m\u001b[1;32m     98\u001b[0m \u001b[0;34m\u001b[0m\u001b[0m\n\u001b[1;32m     99\u001b[0m         \u001b[0mself\u001b[0m\u001b[0;34m.\u001b[0m\u001b[0mloader\u001b[0m \u001b[0;34m=\u001b[0m \u001b[0mloader\u001b[0m\u001b[0;34m\u001b[0m\u001b[0;34m\u001b[0m\u001b[0m\n",
            "\u001b[0;31mRuntimeError\u001b[0m: Found 0 files in subfolders of: /content/drive/My Drive/Colab Notebooks/Cat_dataset\nSupported extensions are: .jpg,.jpeg,.png,.ppm,.bmp,.pgm,.tif,.tiff,.webp"
          ]
        }
      ]
    },
    {
      "cell_type": "markdown",
      "metadata": {
        "id": "UwanZwVHa3CZ",
        "colab_type": "text"
      },
      "source": [
        "# MODEL"
      ]
    },
    {
      "cell_type": "markdown",
      "metadata": {
        "id": "Odh6lolZa5Nq",
        "colab_type": "text"
      },
      "source": [
        "## WEIGHTS"
      ]
    },
    {
      "cell_type": "code",
      "metadata": {
        "id": "E2MW4VqTqo4w",
        "colab_type": "code",
        "colab": {}
      },
      "source": [
        "# custom weights initialization called on netG and netD\n",
        "def weights_init(m):\n",
        "    classname = m.__class__.__name__\n",
        "    if classname.find('Conv') != -1:\n",
        "        nn.init.normal_(m.weight.data, 0.0, 0.02)\n",
        "    elif classname.find('BatchNorm') != -1:\n",
        "        nn.init.normal_(m.weight.data, 1.0, 0.02)\n",
        "        nn.init.constant_(m.bias.data, 0)"
      ],
      "execution_count": 0,
      "outputs": []
    },
    {
      "cell_type": "markdown",
      "metadata": {
        "id": "PAbpkoLja9Ku",
        "colab_type": "text"
      },
      "source": [
        "## GENERATOR"
      ]
    },
    {
      "cell_type": "markdown",
      "metadata": {
        "id": "AGSata5vbCLM",
        "colab_type": "text"
      },
      "source": [
        "### CREATION"
      ]
    },
    {
      "cell_type": "code",
      "metadata": {
        "id": "lMook0DUqtQb",
        "colab_type": "code",
        "colab": {}
      },
      "source": [
        "# Generator Code\n",
        "\n",
        "class Generator(nn.Module):\n",
        "    def __init__(self, ngpu):\n",
        "        super(Generator, self).__init__()\n",
        "        self.ngpu = ngpu\n",
        "        \n",
        "        layers = OrderedDict()\n",
        "        output_size = image_size * 8\n",
        "        i_layer = 0\n",
        "        \n",
        "        while(output_size >= ngf):\n",
        "            if i_layer == 0:\n",
        "                layers[str(i_layer)] = nn.ConvTranspose2d(nz, output_size, 4, 1, 0, bias=False)\n",
        "            else:\n",
        "                layers[str(i_layer)] = nn.ConvTranspose2d(output_size * 2, output_size, 4, 2, 1, bias=False)\n",
        "          \n",
        "            layers[str(i_layer + 1)] = nn.BatchNorm2d(output_size)\n",
        "            layers[str(i_layer + 2)] = nn.ReLU(True)\n",
        "            \n",
        "            if output_size == ngf:\n",
        "                layers[str(i_layer + 3)] = nn.ConvTranspose2d(ngf, nc, 4, 2, 1, bias=False)\n",
        "                layers[str(i_layer + 4)] = nn.Tanh()\n",
        "            output_size = output_size // 2\n",
        "            i_layer += 3\n",
        "        \n",
        "          \n",
        "        str_main = \"nn.ConvTranspose2d(nz, ngf * 8, 4, 1, 0, bias=False),\\\n",
        "            nn.BatchNorm2d(ngf * 8),\\\n",
        "            nn.ReLU(True),\\\n",
        "            nn.ConvTranspose2d(ngf * 8, ngf * 4, 4, 2, 1, bias=False),\\\n",
        "            nn.BatchNorm2d(ngf * 4),\\\n",
        "            nn.ReLU(True),\\\n",
        "            nn.ConvTranspose2d( ngf * 4, ngf * 2, 4, 2, 1, bias=False),\\\n",
        "            nn.BatchNorm2d(ngf * 2),\\\n",
        "            nn.ReLU(True),\\\n",
        "            nn.ConvTranspose2d( ngf * 2, ngf, 4, 2, 1, bias=False),\\\n",
        "            nn.BatchNorm2d(ngf),\\\n",
        "            nn.ReLU(True),\\\n",
        "            nn.ConvTranspose2d( ngf, nc, 4, 2, 1, bias=False),\\\n",
        "            nn.Tanh()\"\n",
        "        self.main = nn.Sequential(layers)\n",
        "\n",
        "    def forward(self, input):\n",
        "        return self.main(input)"
      ],
      "execution_count": 0,
      "outputs": []
    },
    {
      "cell_type": "markdown",
      "metadata": {
        "id": "saOpbulxbFdt",
        "colab_type": "text"
      },
      "source": [
        "### INSTANTIATION"
      ]
    },
    {
      "cell_type": "code",
      "metadata": {
        "id": "oT7oqDYhqtGV",
        "colab_type": "code",
        "colab": {}
      },
      "source": [
        "# Create the generator\n",
        "netG = Generator(ngpu).to(device)\n",
        "\n",
        "# Handle multi-gpu if desired\n",
        "if (device.type == 'cuda') and (ngpu > 1):\n",
        "    netG = nn.DataParallel(netG, list(range(ngpu)))\n",
        "\n",
        "# Apply the weights_init function to randomly initialize all weights\n",
        "#  to mean=0, stdev=0.2.\n",
        "netG.apply(weights_init)\n",
        "\n",
        "# Print the model\n",
        "print(netG)\n",
        "summary(netG, (100, 1, 1))"
      ],
      "execution_count": 0,
      "outputs": []
    },
    {
      "cell_type": "markdown",
      "metadata": {
        "id": "tXExHi49bNTL",
        "colab_type": "text"
      },
      "source": [
        "## DISCRIMINATOR"
      ]
    },
    {
      "cell_type": "markdown",
      "metadata": {
        "id": "cSCQEOrEbPrh",
        "colab_type": "text"
      },
      "source": [
        "### CREATION"
      ]
    },
    {
      "cell_type": "code",
      "metadata": {
        "id": "jzlOs1qgr8E1",
        "colab_type": "code",
        "colab": {}
      },
      "source": [
        "class Discriminator(nn.Module):\n",
        "    def __init__(self, ngpu):\n",
        "        super(Discriminator, self).__init__()\n",
        "        self.ngpu = ngpu\n",
        "        \n",
        "        layers = OrderedDict()\n",
        "        output_size = image_size\n",
        "        i_layer = 0\n",
        "        \n",
        "        padding  = 0\n",
        "        \n",
        "        while(output_size <= image_size * 8):\n",
        "            \n",
        "            if i_layer == 0:\n",
        "                layers[str(i_layer)] = nn.Conv2d(nc, output_size, 4, 2, 1, bias=False)\n",
        "                layers[str(i_layer + 1)] = nn.LeakyReLU(0.2, inplace=True)\n",
        "                i_layer -= 1\n",
        "            else:\n",
        "                layers[str(i_layer)] = nn.Conv2d(output_size // 2, output_size, 4, 2, 1, bias=False)\n",
        "                layers[str(i_layer + 1)] = nn.BatchNorm2d(output_size)\n",
        "                layers[str(i_layer + 2)] = nn.LeakyReLU(0.2, inplace=True)\n",
        "          \n",
        "            \n",
        "            if output_size == image_size * 8:\n",
        "                i_layer += 3\n",
        "                n_stride = np.log(image_size / ndf) / np.log(2)\n",
        "                print(n_stride)\n",
        "                \"\"\"while n_stride > 0:\n",
        "                    layers[str(i_layer)] = nn.Conv2d(output_size, output_size, 4, 2, padding, bias=False)\n",
        "                    layers[str(i_layer + 1)] = nn.BatchNorm2d(output_size)\n",
        "                    layers[str(i_layer + 2)] = nn.LeakyReLU(0.2, inplace=True)\n",
        "                    n_stride -= 1\n",
        "                    i_layer += 3\"\"\"\n",
        "                layers[str(i_layer)] = nn.Conv2d(output_size, 1, 4, 1, 0, bias=False)\n",
        "                layers[str(i_layer + 1)] = nn.AdaptiveAvgPool2d(1)\n",
        "                layers[str(i_layer + 3)] = nn.Sigmoid()\n",
        "                \n",
        "          \n",
        "\n",
        "            output_size = output_size * 2\n",
        "            i_layer += 3\n",
        "        \n",
        "        \n",
        "        self.main = nn.Sequential(layers)\n",
        "        \"\"\"# input is (nc) x 64 x 64\n",
        "            nn.Conv2d(nc, ndf, 4, 2, 1, bias=False),\n",
        "            nn.LeakyReLU(0.2, inplace=True),\n",
        "            # state size. (ndf) x 32 x 32\n",
        "            nn.Conv2d(ndf, ndf * 2, 4, 2, 1, bias=False),\n",
        "            nn.BatchNorm2d(ndf * 2),\n",
        "            nn.LeakyReLU(0.2, inplace=True),\n",
        "            # state size. (ndf*2) x 16 x 16\n",
        "            nn.Conv2d(ndf * 2, ndf * 4, 4, 2, 1, bias=False),\n",
        "            nn.BatchNorm2d(ndf * 4),\n",
        "            nn.LeakyReLU(0.2, inplace=True),\n",
        "            # state size. (ndf*4) x 8 x 8\n",
        "            nn.Conv2d(ndf * 4, ndf * 8, 4, 2, 1, bias=False),\n",
        "            nn.BatchNorm2d(ndf * 8),\n",
        "            nn.LeakyReLU(0.2, inplace=True),\n",
        "            # state size. (ndf*8) x 4 x 4\n",
        "            nn.Conv2d(ndf * 8, 1, 4, 1, 0, bias=False),\n",
        "            nn.Sigmoid()\"\"\"\n",
        "\n",
        "    def forward(self, input):\n",
        "        return self.main(input)"
      ],
      "execution_count": 0,
      "outputs": []
    },
    {
      "cell_type": "markdown",
      "metadata": {
        "id": "8KKciYoSbR_u",
        "colab_type": "text"
      },
      "source": [
        "### INSTANTIATION"
      ]
    },
    {
      "cell_type": "code",
      "metadata": {
        "id": "VgdW2jVgsARl",
        "colab_type": "code",
        "colab": {}
      },
      "source": [
        "# Create the Discriminator\n",
        "netD = Discriminator(ngpu).to(device)\n",
        "\n",
        "# Handle multi-gpu if desired\n",
        "if (device.type == 'cuda') and (ngpu > 1):\n",
        "    netD = nn.DataParallel(netD, list(range(ngpu)))\n",
        "\n",
        "# Apply the weights_init function to randomly initialize all weights\n",
        "#  to mean=0, stdev=0.2.\n",
        "netD.apply(weights_init)\n",
        "\n",
        "# Print the model\n",
        "print(netD)\n",
        "summary(netD, (3, image_size, image_size))\n",
        "\n",
        "\"\"\"\n",
        "Discriminator(\n",
        "  (main): Sequential(\n",
        "    (0): Conv2d(3, 64, kernel_size=(4, 4), stride=(2, 2), padding=(1, 1), bias=False)\n",
        "    (1): LeakyReLU(negative_slope=0.2, inplace)\n",
        "    (2): Conv2d(64, 128, kernel_size=(4, 4), stride=(2, 2), padding=(1, 1), bias=False)\n",
        "    (3): BatchNorm2d(128, eps=1e-05, momentum=0.1, affine=True, track_running_stats=True)\n",
        "    (4): LeakyReLU(negative_slope=0.2, inplace)\n",
        "    (5): Conv2d(128, 256, kernel_size=(4, 4), stride=(2, 2), padding=(1, 1), bias=False)\n",
        "    (6): BatchNorm2d(256, eps=1e-05, momentum=0.1, affine=True, track_running_stats=True)\n",
        "    (7): LeakyReLU(negative_slope=0.2, inplace)\n",
        "    (8): Conv2d(512, 1, kernel_size=(4, 4), stride=(1, 1), bias=False)\n",
        "    (9): Sigmoid()\n",
        "  )\n",
        ")\n",
        "\n",
        "Discriminator(\n",
        "  (main): Sequential(\n",
        "    (0): Conv2d(3, 64, kernel_size=(4, 4), stride=(2, 2), padding=(1, 1), bias=False)\n",
        "    (1): LeakyReLU(negative_slope=0.2, inplace)\n",
        "    (2): Conv2d(64, 128, kernel_size=(4, 4), stride=(2, 2), padding=(1, 1), bias=False)\n",
        "    (3): BatchNorm2d(128, eps=1e-05, momentum=0.1, affine=True, track_running_stats=True)\n",
        "    (4): LeakyReLU(negative_slope=0.2, inplace)\n",
        "    (5): Conv2d(128, 256, kernel_size=(4, 4), stride=(2, 2), padding=(1, 1), bias=False)\n",
        "    (6): BatchNorm2d(256, eps=1e-05, momentum=0.1, affine=True, track_running_stats=True)\n",
        "    (7): LeakyReLU(negative_slope=0.2, inplace)\n",
        "    (8): Conv2d(256, 512, kernel_size=(4, 4), stride=(2, 2), padding=(1, 1), bias=False)\n",
        "    (9): BatchNorm2d(512, eps=1e-05, momentum=0.1, affine=True, track_running_stats=True)\n",
        "    (10): LeakyReLU(negative_slope=0.2, inplace)\n",
        "    (11): Conv2d(512, 1, kernel_size=(4, 4), stride=(1, 1), bias=False)\n",
        "    (12): Sigmoid()\n",
        "  )\n",
        ")\n",
        "\n",
        "\"\"\""
      ],
      "execution_count": 0,
      "outputs": []
    },
    {
      "cell_type": "markdown",
      "metadata": {
        "id": "61NECVX_bWpz",
        "colab_type": "text"
      },
      "source": [
        "## COMPILATIONS"
      ]
    },
    {
      "cell_type": "code",
      "metadata": {
        "id": "HK3NQr9QsEvD",
        "colab_type": "code",
        "colab": {}
      },
      "source": [
        "# Initialize BCELoss function\n",
        "criterion = nn.BCELoss()\n",
        "\n",
        "# Create batch of latent vectors that we will use to visualize\n",
        "#  the progression of the generator\n",
        "fixed_noise = torch.randn(64, nz, 1, 1, device=device)\n",
        "\n",
        "# Establish convention for real and fake labels during training\n",
        "real_label = 1\n",
        "fake_label = 0\n",
        "\n",
        "# Setup Adam optimizers for both G and D\n",
        "optimizerD = optim.Adam(netD.parameters(), lr=lr, betas=(beta1, 0.999))\n",
        "optimizerG = optim.Adam(netG.parameters(), lr=lr, betas=(beta1, 0.999))"
      ],
      "execution_count": 0,
      "outputs": []
    },
    {
      "cell_type": "markdown",
      "metadata": {
        "id": "r7a-IbGIberB",
        "colab_type": "text"
      },
      "source": [
        "# AUXILIARY"
      ]
    },
    {
      "cell_type": "markdown",
      "metadata": {
        "id": "DbYZyxtibhmc",
        "colab_type": "text"
      },
      "source": [
        "## SAVE AND LOAD"
      ]
    },
    {
      "cell_type": "code",
      "metadata": {
        "id": "ve7YDqr1N6yB",
        "colab_type": "code",
        "colab": {}
      },
      "source": [
        "save_dir = os.path.join(dataroot, \"model\")  \n",
        "def save():\n",
        "    if not os.path.exists(save_dir):\n",
        "        os.makedirs(save_dir)\n",
        "\n",
        "    torch.save(netG.state_dict(), os.path.join(save_dir, 'model' + '_G.pkl'))\n",
        "    torch.save(netD.state_dict(), os.path.join(save_dir, 'model' + '_D.pkl'))\n",
        "    print('model saved...')    \n",
        "\n",
        "def load():\n",
        "    if os.path.exists(save_dir):\n",
        "        netG.load_state_dict(torch.load(os.path.join(save_dir, 'model' + '_G.pkl')))\n",
        "        netD.load_state_dict(torch.load(os.path.join(save_dir, 'model' + '_D.pkl')))\n",
        "        print('model loaded...')\n",
        "    else:\n",
        "      print('no model founded...')"
      ],
      "execution_count": 0,
      "outputs": []
    },
    {
      "cell_type": "markdown",
      "metadata": {
        "id": "2o3ott13bkSe",
        "colab_type": "text"
      },
      "source": [
        "## DISPLAY"
      ]
    },
    {
      "cell_type": "code",
      "metadata": {
        "id": "TaBIG-6MvwXq",
        "colab_type": "code",
        "colab": {}
      },
      "source": [
        "def display():\n",
        "    # Grab a batch of real images from the dataloader\n",
        "    real_batch = next(iter(dataloader))\n",
        "\n",
        "    # Plot the real images\n",
        "    plt.figure(figsize=(15,15))\n",
        "    plt.subplot(1,2,1)\n",
        "    plt.axis(\"off\")\n",
        "    plt.title(\"Real Images\")\n",
        "    plt.imshow(np.transpose(vutils.make_grid(real_batch[0].to(device)[:64], padding=5, normalize=True).cpu(),(1,2,0)))\n",
        "\n",
        "    # Plot the fake images from the last epoch\n",
        "    plt.subplot(1,2,2)\n",
        "    plt.axis(\"off\")\n",
        "    plt.title(\"Fake Images\")\n",
        "    plt.imshow(np.transpose(img_list, (1,2,0)))\n",
        "    plt.show()\n"
      ],
      "execution_count": 0,
      "outputs": []
    },
    {
      "cell_type": "markdown",
      "metadata": {
        "id": "kQ0438YHbmp1",
        "colab_type": "text"
      },
      "source": [
        "# TRAINING"
      ]
    },
    {
      "cell_type": "code",
      "metadata": {
        "id": "6X0kAXYJsQB0",
        "colab_type": "code",
        "cellView": "code",
        "colab": {}
      },
      "source": [
        "# Training Loop\n",
        "\n",
        "# Lists to keep track of progress\n",
        "img_list = []\n",
        "\n",
        "iters = 0\n",
        "load()\n",
        "print(\"Starting Training Loop...\")\n",
        "# For each epoch\n",
        "for epoch in range(num_epochs):\n",
        "    # For each batch in the dataloader\n",
        "    for i, data in enumerate(dataloader, 0):\n",
        "\n",
        "        ############################\n",
        "        # (1) Update D network: maximize log(D(x)) + log(1 - D(G(z)))\n",
        "        ###########################\n",
        "        ## Train with all-real batch\n",
        "        netD.zero_grad()\n",
        "        # Format batch\n",
        "        real_cpu = data[0].to(device)\n",
        "        b_size = real_cpu.size(0)\n",
        "        label = torch.full((b_size,), real_label, device=device)\n",
        "        # Forward pass real batch through D\n",
        "        output = netD(real_cpu).view(-1)\n",
        "        # Calculate loss on all-real batch\n",
        "        errD_real = criterion(output, label)\n",
        "        # Calculate gradients for D in backward pass\n",
        "        errD_real.backward()\n",
        "        D_x = output.mean().item()\n",
        "\n",
        "        ## Train with all-fake batch\n",
        "        # Generate batch of latent vectors\n",
        "        noise = torch.randn(b_size, nz, 1, 1, device=device)\n",
        "        # Generate fake image batch with G\n",
        "        fake = netG(noise)\n",
        "        label.fill_(fake_label)\n",
        "        # Classify all fake batch with D\n",
        "        output = netD(fake.detach()).view(-1)\n",
        "        # Calculate D's loss on the all-fake batch\n",
        "        errD_fake = criterion(output, label)\n",
        "        # Calculate the gradients for this batch\n",
        "        errD_fake.backward()\n",
        "        D_G_z1 = output.mean().item()\n",
        "        # Add the gradients from the all-real and all-fake batches\n",
        "        errD = errD_real + errD_fake\n",
        "        # Update D\n",
        "        optimizerD.step()\n",
        "\n",
        "        ############################\n",
        "        # (2) Update G network: maximize log(D(G(z)))\n",
        "        ###########################\n",
        "        netG.zero_grad()\n",
        "        label.fill_(real_label)  # fake labels are real for generator cost\n",
        "        # Since we just updated D, perform another forward pass of all-fake batch through D\n",
        "        output = netD(fake).view(-1)\n",
        "        # Calculate G's loss based on this output\n",
        "        errG = criterion(output, label)\n",
        "        # Calculate gradients for G\n",
        "        errG.backward()\n",
        "        D_G_z2 = output.mean().item()\n",
        "        # Update G\n",
        "        optimizerG.step()\n",
        "\n",
        "        # Output training stats\n",
        "        if i % 1 == 0:\n",
        "            print('[%d/%d][%d/%d]\\tLoss_D: %.4f\\tLoss_G: %.4f\\tD(x): %.4f\\tD(G(z)): %.4f / %.4f'\n",
        "                  % (epoch, num_epochs, i, len(dataloader),\n",
        "                     errD.item(), errG.item(), D_x, D_G_z1, D_G_z2))\n",
        "        if iters % 10 == 0:\n",
        "            save()\n",
        "            \n",
        "        # Check how the generator is doing by saving G's output on fixed_noise\n",
        "        if (iters % 100 == 0) or ((epoch == num_epochs-1) and (i == len(dataloader)-1)):\n",
        "            with torch.no_grad():\n",
        "                fake = netG(fixed_noise).detach().cpu()\n",
        "            img_list = vutils.make_grid(fake, padding=2, normalize=True)\n",
        "            display()\n",
        "            \n",
        "\n",
        "        iters += 1\n"
      ],
      "execution_count": 0,
      "outputs": []
    }
  ]
}